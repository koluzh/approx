{
 "cells": [
  {
   "cell_type": "markdown",
   "id": "c6d50e35-6274-4ea7-a04e-5b2b7f4e693c",
   "metadata": {},
   "source": [
    "# Лабораторная работа 1.1\n",
    "## Метод Эйлера\n",
    "Решение ОДУ вида:\\\n",
    "$$y' = f(x, y)$$ на отрезке \\[a, b\\]\\\n",
    "с начальным условием \\\n",
    "$$y(a) = y_0$$\n",
    "где f(x) - некоторая заданная, в общем случае, нелинейная функция двух переменных.\\\n",
    "Будем считать, что данная задача Коши имеет единственное решение, а также,\n",
    "что это решение обладает той или иной степенью гладкости, необходимой для построения и применения того или иного метода.\\\n",
    "Метод Эйлера заключается в приближённом нахождении координат \n",
    "$$y_{i+1} = y_i + h * f(x_i, y_i)$$\n",
    "где $h = {(b - a)} / {n}$ - расчетный шаг для n узлов,\\\n",
    "$x_i = a + h * i,\\\n",
    "i \\in [0, n]$"
   ]
  },
  {
   "cell_type": "markdown",
   "id": "6b965fe4-76ae-4e55-9a41-51f589fbfb6c",
   "metadata": {},
   "source": [
    "<img src=\"euler_method.png\" alt='euler_method' style=\"width:700px;\"/>"
   ]
  },
  {
   "cell_type": "markdown",
   "id": "61f49306-d6d2-400e-a8cc-148a8c29c4d7",
   "metadata": {},
   "source": [
    "## Задача\n",
    "$$u = (u + u^2) + f(x), x \\in (0, 1]$$\n",
    "$$u(0) = u_0$$\n",
    "$$f(x) = A * cos(k + x) - (A * sin(k + x) + A^2 * [sin(k+x)]^2)$$\n",
    "$$u_0 = A * sin(k)$$\n",
    "$$A, k - const > 0$$\n",
    "### Аналитическое решение\n",
    "$$u = A * sin(k + x)$$"
   ]
  },
  {
   "cell_type": "markdown",
   "id": "fc11a598-113d-41bb-b117-0981f0259bd1",
   "metadata": {},
   "source": [
    "## Работа"
   ]
  },
  {
   "cell_type": "code",
   "execution_count": 1,
   "id": "45c6d698-a27b-49c8-8683-9a058c1e1e68",
   "metadata": {},
   "outputs": [],
   "source": [
    "import numpy as np\n",
    "import sympy as sp\n",
    "import pandas as pd\n",
    "\n",
    "from numpy import sin, cos\n",
    "\n",
    "import seaborn as sns"
   ]
  },
  {
   "cell_type": "code",
   "execution_count": 2,
   "id": "9cc58660-8f1c-48e3-b989-3b618ddee438",
   "metadata": {},
   "outputs": [],
   "source": [
    "A = 3 / 2\n",
    "k = np.pi / 2"
   ]
  },
  {
   "cell_type": "code",
   "execution_count": 3,
   "id": "fa079cce-14a7-4eb1-bb2a-2456988f2c53",
   "metadata": {},
   "outputs": [],
   "source": [
    "a = 0\n",
    "b = 1\n",
    "n = 100\n",
    "h = (b - a) / n\n",
    "y_0 = A * sin(k)"
   ]
  },
  {
   "cell_type": "code",
   "execution_count": 4,
   "id": "96014be1-013e-4cea-a440-84571b43f7a4",
   "metadata": {},
   "outputs": [],
   "source": [
    "xs = [h * i + a for i in range(n + 1)]"
   ]
  },
  {
   "cell_type": "code",
   "execution_count": 5,
   "id": "d6a00f2b-2fb5-412c-ad58-c0798754c633",
   "metadata": {},
   "outputs": [],
   "source": [
    "ys = [y_0]"
   ]
  },
  {
   "cell_type": "code",
   "execution_count": 6,
   "id": "cb349690-ee17-461f-808b-dffccca92940",
   "metadata": {},
   "outputs": [],
   "source": [
    "def f(x, y):\n",
    "    return y + y ** 2 + A * cos(k + x) - (A * sin(k + x) + A ** 2 * (sin(k+x)) ** 2)"
   ]
  },
  {
   "cell_type": "code",
   "execution_count": 7,
   "id": "19831d03-c96f-4266-b37e-79abd68a9c93",
   "metadata": {},
   "outputs": [],
   "source": [
    "for i in range(100):\n",
    "    d = f(xs[i], ys[i]) * h\n",
    "    ys.append(ys[i] + d)"
   ]
  },
  {
   "cell_type": "code",
   "execution_count": 8,
   "id": "8eb7a454-f35b-475a-85ff-e9ad981b3fef",
   "metadata": {},
   "outputs": [],
   "source": [
    "ys_true = [A * sin(k + x) for x in xs]"
   ]
  },
  {
   "cell_type": "code",
   "execution_count": 9,
   "id": "6f36fd92-728d-4a28-aaab-207238a53102",
   "metadata": {},
   "outputs": [],
   "source": [
    "data = pd.DataFrame({'x': xs, 'y_hat': ys, 'y': ys_true})"
   ]
  },
  {
   "cell_type": "code",
   "execution_count": 10,
   "id": "a5767be0-11b8-49c5-addd-c985780069e4",
   "metadata": {},
   "outputs": [],
   "source": [
    "data.set_index('x', inplace=True)"
   ]
  },
  {
   "cell_type": "markdown",
   "id": "fb88efc2-e690-4771-b71a-33d9aa6a0e7a",
   "metadata": {},
   "source": [
    "## Результат\n",
    "на графике:\\\n",
    "y_hat - решение методом Эйлера\\\n",
    "y - аналитическое решение"
   ]
  },
  {
   "cell_type": "code",
   "execution_count": 11,
   "id": "3f3444ba-3334-4c88-82e7-0202b83a77d3",
   "metadata": {},
   "outputs": [
    {
     "data": {
      "text/plain": [
       "<Axes: xlabel='x'>"
      ]
     },
     "execution_count": 11,
     "metadata": {},
     "output_type": "execute_result"
    },
    {
     "data": {
      "image/png": "[encoded data removed]",
      "text/plain": [
       "<Figure size 640x480 with 1 Axes>"
      ]
     },
     "metadata": {},
     "output_type": "display_data"
    }
   ],
   "source": [
    "sns.lineplot(data)"
   ]
  },
  {
   "cell_type": "code",
   "execution_count": null,
   "id": "c4bd9dd5-34cc-445a-8967-357db8d4be32",
   "metadata": {},
   "outputs": [],
   "source": []
  }
 ],
 "metadata": {
  "kernelspec": {
   "display_name": "Python 3 (ipykernel)",
   "language": "python",
   "name": "python3"
  },
  "language_info": {
   "codemirror_mode": {
    "name": "ipython",
    "version": 3
   },
   "file_extension": ".py",
   "mimetype": "text/x-python",
   "name": "python",
   "nbconvert_exporter": "python",
   "pygments_lexer": "ipython3",
   "version": "3.10.6"
  }
 },
 "nbformat": 4,
 "nbformat_minor": 5
}
